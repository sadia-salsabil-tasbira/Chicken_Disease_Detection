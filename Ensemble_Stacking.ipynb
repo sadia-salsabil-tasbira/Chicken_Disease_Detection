{
 "cells": [
  {
   "cell_type": "markdown",
   "metadata": {
    "colab_type": "text",
    "id": "view-in-github"
   },
   "source": [
    "<a href=\"https://colab.research.google.com/github/YashK07/Stacking-Ensembling/blob/main/Ensemble_Stacking_in_Neural_Networks.ipynb\" target=\"_parent\"><img src=\"https://colab.research.google.com/assets/colab-badge.svg\" alt=\"Open In Colab\"/></a>"
   ]
  },
  {
   "cell_type": "code",
   "execution_count": 1,
   "metadata": {
    "id": "jUHUoanqkM5_"
   },
   "outputs": [],
   "source": [
    "from sklearn import datasets\n",
    "from sklearn.linear_model import LinearRegression\n",
    "from keras.callbacks import EarlyStopping\n",
    "from keras import backend as K\n",
    "import matplotlib.pyplot as plt\n",
    "from sklearn.model_selection import train_test_split\n",
    "from tensorflow.keras.models import Sequential,load_model\n",
    "from tensorflow.keras.layers import Dense,Dropout\n",
    "from numpy import dstack\n",
    "from sklearn.linear_model import LogisticRegression\n",
    "from sklearn.neighbors import KNeighborsClassifier\n",
    "from sklearn.svm import SVC\n",
    "from sklearn.naive_bayes import GaussianNB\n",
    "from sklearn.tree import DecisionTreeClassifier\n",
    "from sklearn.ensemble import RandomForestClassifier\n",
    "from sklearn import metrics\n",
    "from sklearn.metrics import f1_score\n",
    "import numpy as np\n",
    "import glob\n",
    "import os\n",
    "import pandas as pd"
   ]
  },
  {
   "cell_type": "code",
   "execution_count": 2,
   "metadata": {
    "id": "cGighNVOBvJZ"
   },
   "outputs": [],
   "source": [
    "# load models from file\n",
    "def load_all_models(n_models, modelList):\n",
    "    all_models = list()\n",
    "    for i in range(n_models):\n",
    "        # define filename for this ensemble\n",
    "        filename = modelList[i] + '.h5'\n",
    "        # load model from file\n",
    "        model = load_model(filename)\n",
    "        # add to list of members\n",
    "        all_models.append(model)\n",
    "        print('>loaded %s' % filename)\n",
    "    return all_models"
   ]
  },
  {
   "cell_type": "code",
   "execution_count": 3,
   "metadata": {
    "colab": {
     "base_uri": "https://localhost:8080/"
    },
    "id": "r5KRPy2_EZrn",
    "outputId": "bc7bc008-d480-4edf-f6d8-ba1dfdfecdb8"
   },
   "outputs": [
    {
     "name": "stdout",
     "output_type": "stream",
     "text": [
      ">loaded mobilenetv2_100.h5\n",
      ">loaded inception_80.h5\n",
      ">loaded densenet201_rmsprop_50.h5\n",
      ">loaded xceptionnet_70.h5\n",
      "Loaded 4 models\n"
     ]
    }
   ],
   "source": [
    "n_members = 4\n",
    "modelList = ['mobilenetv2_100', 'inception_80', 'densenet201_rmsprop_50', 'xceptionnet_70']\n",
    "members = load_all_models(n_members, modelList)\n",
    "print('Loaded %d models' % len(members))"
   ]
  },
  {
   "cell_type": "code",
   "execution_count": 4,
   "metadata": {},
   "outputs": [
    {
     "name": "stdout",
     "output_type": "stream",
     "text": [
      "Found 80 images belonging to 4 classes.\n",
      "Found 200 images belonging to 4 classes.\n",
      "Found 800 images belonging to 4 classes.\n"
     ]
    }
   ],
   "source": [
    "from keras.applications.resnet import preprocess_input\n",
    "from keras.preprocessing.image import ImageDataGenerator\n",
    "\n",
    "train_path = r'train'\n",
    "test_path = r'separate testing'\n",
    "validation_path = r'test'\n",
    "batch_size = 8\n",
    "\n",
    "test_datagen = ImageDataGenerator(\n",
    "    rescale = 1./255,\n",
    "    shear_range = 0.2,\n",
    "    zoom_range = 0.2,\n",
    "    rotation_range= 45,\n",
    "    horizontal_flip = True)\n",
    "validation_datagen = ImageDataGenerator(\n",
    "     rescale = 1./255,\n",
    "    shear_range = 0.2,\n",
    "    zoom_range = 0.2,\n",
    "    rotation_range= 45,\n",
    "    horizontal_flip = True)\n",
    "train_datagen = ImageDataGenerator(\n",
    "    rescale = 1./255,\n",
    "    shear_range = 0.2,\n",
    "    zoom_range = 0.2,\n",
    "    rotation_range= 45,\n",
    "    horizontal_flip = True)\n",
    "\n",
    "test_set = test_datagen.flow_from_directory(test_path,\n",
    "                                            target_size = (224, 224),\n",
    "                                            batch_size = batch_size,\n",
    "                                            class_mode = 'categorical',\n",
    "                                            shuffle=False)\n",
    "validation_set = validation_datagen.flow_from_directory(validation_path,\n",
    "                                                  target_size = (224, 224),\n",
    "                                                  batch_size = batch_size,\n",
    "                                                  class_mode = 'categorical')\n",
    "train_set = train_datagen.flow_from_directory(train_path,\n",
    "                                                 target_size = (224, 224),\n",
    "                                                 batch_size = batch_size,\n",
    "                                                 class_mode = 'categorical')"
   ]
  },
  {
   "cell_type": "code",
   "execution_count": 5,
   "metadata": {
    "id": "9NAaaGyZEm_l"
   },
   "outputs": [],
   "source": [
    "stackedX_res = []\n",
    "# create stacked model input dataset as outputs from the ensemble\n",
    "def stacked_dataset(members, inputX):\n",
    "#     print('prediction')\n",
    "    stackX = None\n",
    "    for model in range(n_members):\n",
    "        # make prediction\n",
    "#         print('make prediction')\n",
    "        yhat = members[model].predict(inputX)\n",
    "#         print(yhat)\n",
    "        # stack predictions into [rows, members, probabilities]\n",
    "        if stackX is None:\n",
    "            stackX = yhat #\n",
    "        else:\n",
    "            stackX = dstack((stackX, yhat))\n",
    "    # flatten predictions to [rows, members x probabilities]\n",
    "    stackX = stackX.reshape((stackX.shape[0], stackX.shape[1]*stackX.shape[2]))\n",
    "    stackedX_res = stackX\n",
    "#     print(stackX,'\\n',stackX.shape)\n",
    "    return stackX"
   ]
  },
  {
   "cell_type": "code",
   "execution_count": 6,
   "metadata": {},
   "outputs": [
    {
     "name": "stdout",
     "output_type": "stream",
     "text": [
      "10/10 [==============================] - 9s 335ms/step\n",
      "10/10 [==============================] - 5s 272ms/step\n",
      "10/10 [==============================] - 7s 300ms/step\n",
      "10/10 [==============================] - 4s 273ms/step\n",
      "(80, 16)\n"
     ]
    }
   ],
   "source": [
    "stackX = stacked_dataset(members, test_set)\n",
    "print(stackX.shape)"
   ]
  },
  {
   "cell_type": "code",
   "execution_count": 7,
   "metadata": {},
   "outputs": [],
   "source": [
    "testDatalevel = []\n",
    "#for directory_path in glob.glob(\"cell_images/test/*\"): \n",
    "for directory_path in glob.glob(test_path + \"/*\"):\n",
    "    label = directory_path.split(\"\\\\\")[-1]\n",
    "    for img_path in glob.glob(os.path.join(directory_path, \"*.jpg\")):\n",
    "        if(label == 'cocci'):\n",
    "            testDatalevel.append(0)\n",
    "        elif (label == 'healthy'):\n",
    "            testDatalevel.append(1)\n",
    "        elif (label == 'ncd'):\n",
    "            testDatalevel.append(2)\n",
    "        else:\n",
    "            testDatalevel.append(3)\n",
    "            \n",
    "testDatalevel = np.array(testDatalevel)\n"
   ]
  },
  {
   "cell_type": "code",
   "execution_count": 8,
   "metadata": {},
   "outputs": [],
   "source": [
    "def recall_m(y_true, y_pred):\n",
    "    true_positives = K.sum(K.round(K.clip(y_true * y_pred, 0, 1)))\n",
    "    possible_positives = K.sum(K.round(K.clip(y_true, 0, 1)))\n",
    "    recall = true_positives / (possible_positives + K.epsilon())\n",
    "    return recall\n",
    "\n",
    "def precision_m(y_true, y_pred):\n",
    "    true_positives = K.sum(K.round(K.clip(y_true * y_pred, 0, 1)))\n",
    "    predicted_positives = K.sum(K.round(K.clip(y_pred, 0, 1)))\n",
    "    precision = true_positives / (predicted_positives + K.epsilon())\n",
    "    return precision\n",
    "\n",
    "def f1_m(y_true, y_pred):\n",
    "    precision = precision_m(y_true, y_pred)\n",
    "    recall = recall_m(y_true, y_pred)\n",
    "    return 2*((precision*recall)/(precision+recall+K.epsilon()))"
   ]
  },
  {
   "cell_type": "code",
   "execution_count": null,
   "metadata": {},
   "outputs": [],
   "source": []
  },
  {
   "cell_type": "code",
   "execution_count": 9,
   "metadata": {},
   "outputs": [
    {
     "data": {
      "text/plain": [
       "RandomForestClassifier()"
      ]
     },
     "execution_count": 9,
     "metadata": {},
     "output_type": "execute_result"
    }
   ],
   "source": [
    "modelLR = LogisticRegression() #meta learner\n",
    "modelKNN = KNeighborsClassifier()\n",
    "modelSVM = SVC()\n",
    "modelDT = DecisionTreeClassifier()\n",
    "modelRF = RandomForestClassifier()\n",
    "\n",
    "modelSVM.fit(stackX, testDatalevel)\n",
    "modelLR.fit(stackX, testDatalevel)\n",
    "modelKNN.fit(stackX, testDatalevel)\n",
    "modelDT.fit(stackX, testDatalevel)\n",
    "modelRF.fit(stackX, testDatalevel)"
   ]
  },
  {
   "cell_type": "code",
   "execution_count": 10,
   "metadata": {},
   "outputs": [
    {
     "name": "stdout",
     "output_type": "stream",
     "text": [
      "10/10 [==============================] - 3s 337ms/step\n",
      "10/10 [==============================] - 3s 312ms/step\n",
      "10/10 [==============================] - 3s 310ms/step\n",
      "10/10 [==============================] - 3s 297ms/step\n"
     ]
    }
   ],
   "source": [
    "stackedX = stacked_dataset(members, test_set)"
   ]
  },
  {
   "cell_type": "code",
   "execution_count": null,
   "metadata": {},
   "outputs": [],
   "source": []
  },
  {
   "cell_type": "code",
   "execution_count": null,
   "metadata": {},
   "outputs": [],
   "source": []
  },
  {
   "cell_type": "code",
   "execution_count": 66,
   "metadata": {},
   "outputs": [],
   "source": [
    "def print_confusion_metrix_and_accuracy(yhat, model_name):\n",
    "    print('\\n', model_name)\n",
    "    \n",
    "    score = f1_m(testDatalevel/1.0, yhat/1.0)\n",
    "    print('Stacked F Score:', score)\n",
    "    accuracy = metrics.accuracy_score(testDatalevel, yhat)\n",
    "    print('Accuracy Score:', score)\n",
    "    f1_score = metrics.f1_score(testDatalevel, yhat, average=None)\n",
    "    print('F1 Score:', f1_score)\n",
    "    \n",
    "    confusion = metrics.confusion_matrix(testDatalevel, yhat)\n",
    "    print(confusion)\n",
    "    print('-------------------------------------------------------------------------')"
   ]
  },
  {
   "cell_type": "code",
   "execution_count": 67,
   "metadata": {},
   "outputs": [
    {
     "name": "stdout",
     "output_type": "stream",
     "text": [
      "\n",
      " Logistic Regression\n",
      "Stacked F Score: tf.Tensor(0.9999999481481505, shape=(), dtype=float64)\n",
      "Accuracy Score: tf.Tensor(0.9999999481481505, shape=(), dtype=float64)\n",
      "F1 Score: [1.         0.9787234  1.         0.97674419]\n",
      "[[26  0  0  0]\n",
      " [ 0 23  0  0]\n",
      " [ 0  0  9  0]\n",
      " [ 0  1  0 21]]\n",
      "-------------------------------------------------------------------------\n",
      "\n",
      " KNeighbors classifier\n",
      "Stacked F Score: tf.Tensor(0.9999999481481505, shape=(), dtype=float64)\n",
      "Accuracy Score: tf.Tensor(0.9999999481481505, shape=(), dtype=float64)\n",
      "F1 Score: [1.         0.9787234  1.         0.97674419]\n",
      "[[26  0  0  0]\n",
      " [ 0 23  0  0]\n",
      " [ 0  0  9  0]\n",
      " [ 0  1  0 21]]\n",
      "-------------------------------------------------------------------------\n",
      "\n",
      " Support Vector classifier\n",
      "Stacked F Score: tf.Tensor(0.9999999481481505, shape=(), dtype=float64)\n",
      "Accuracy Score: tf.Tensor(0.9999999481481505, shape=(), dtype=float64)\n",
      "F1 Score: [1.         0.9787234  1.         0.97674419]\n",
      "[[26  0  0  0]\n",
      " [ 0 23  0  0]\n",
      " [ 0  0  9  0]\n",
      " [ 0  1  0 21]]\n",
      "-------------------------------------------------------------------------\n",
      "\n",
      " Decision Tree classifier\n",
      "Stacked F Score: tf.Tensor(0.9999999481481505, shape=(), dtype=float64)\n",
      "Accuracy Score: tf.Tensor(0.9999999481481505, shape=(), dtype=float64)\n",
      "F1 Score: [1.         0.95652174 1.         0.95454545]\n",
      "[[26  0  0  0]\n",
      " [ 0 22  0  1]\n",
      " [ 0  0  9  0]\n",
      " [ 0  1  0 21]]\n",
      "-------------------------------------------------------------------------\n",
      "\n",
      " Random Forest classifier\n",
      "Stacked F Score: tf.Tensor(0.9999999481481505, shape=(), dtype=float64)\n",
      "Accuracy Score: tf.Tensor(0.9999999481481505, shape=(), dtype=float64)\n",
      "F1 Score: [1. 1. 1. 1.]\n",
      "[[26  0  0  0]\n",
      " [ 0 23  0  0]\n",
      " [ 0  0  9  0]\n",
      " [ 0  0  0 22]]\n",
      "-------------------------------------------------------------------------\n"
     ]
    }
   ],
   "source": [
    "y_scoreLR = modelLR.predict(stackedX)\n",
    "print_confusion_metrix_and_accuracy(y_scoreLR, 'Logistic Regression')\n",
    "\n",
    "y_scoreKNN = modelKNN.predict(stackedX)\n",
    "print_confusion_metrix_and_accuracy(y_scoreKNN, 'KNeighbors classifier')\n",
    "\n",
    "y_scoreSVM = modelSVM.predict(stackedX)\n",
    "print_confusion_metrix_and_accuracy(y_scoreSVM, 'Support Vector classifier')\n",
    "\n",
    "y_scoreDT = modelDT.predict(stackedX)\n",
    "print_confusion_metrix_and_accuracy(y_scoreDT, 'Decision Tree classifier')\n",
    "\n",
    "y_scoreRF = modelRF.predict(stackedX)\n",
    "print_confusion_metrix_and_accuracy(y_scoreRF, 'Random Forest classifier')"
   ]
  },
  {
   "cell_type": "code",
   "execution_count": null,
   "metadata": {},
   "outputs": [],
   "source": []
  },
  {
   "cell_type": "code",
   "execution_count": 39,
   "metadata": {},
   "outputs": [
    {
     "name": "stdout",
     "output_type": "stream",
     "text": [
      "10/10 [==============================] - 3s 307ms/step\n",
      "Model mobilenetv2_100   F-Score :  0.9874876298861949 Accuracy :  0.9875\n",
      "10/10 [==============================] - 3s 298ms/step\n",
      "Model inception_80   F-Score :  0.9622012578616352 Accuracy :  0.9625\n",
      "10/10 [==============================] - 3s 303ms/step\n",
      "Model densenet201_rmsprop_50   F-Score :  0.924208126699728 Accuracy :  0.925\n",
      "10/10 [==============================] - 3s 298ms/step\n",
      "Model xceptionnet_70   F-Score :  0.9372754101640656 Accuracy :  0.9375\n"
     ]
    }
   ],
   "source": [
    "for j in range(n_members):\n",
    "    y_score = members[j].predict(test_set)\n",
    "    \n",
    "    test_labels_predict = []\n",
    "    \n",
    "    for i in range(len(y_score)):\n",
    "        if((y_score[i][0] > y_score[i][1]) & (y_score[i][0] > y_score[i][2]) & (y_score[i][0] > y_score[i][3])):\n",
    "            test_labels_predict.append(0)\n",
    "        elif ((y_score[i][1] > y_score[i][0]) & (y_score[i][1] > y_score[i][2]) & (y_score[i][1] > y_score[i][3])):\n",
    "            test_labels_predict.append(1)\n",
    "        elif ((y_score[i][2] > y_score[i][0]) & (y_score[i][2] > y_score[i][1]) & (y_score[i][2] > y_score[i][3])):\n",
    "            test_labels_predict.append(2)\n",
    "        else:\n",
    "            test_labels_predict.append(3)\n",
    "            \n",
    "    accuracy = metrics.accuracy_score(testDatalevel, test_labels_predict)   \n",
    "    score = f1_score(testDatalevel, test_labels_predict,average='weighted')\n",
    "    print('Model {}  '.format(modelList[j]), 'F-Score : ', score, 'Accuracy : ', accuracy)"
   ]
  },
  {
   "cell_type": "code",
   "execution_count": null,
   "metadata": {},
   "outputs": [],
   "source": []
  }
 ],
 "metadata": {
  "colab": {
   "authorship_tag": "ABX9TyNgup4kIaXFKd/8Ilgutcyi",
   "collapsed_sections": [],
   "include_colab_link": true,
   "name": "Ensemble Stacking in Neural Networks.ipynb",
   "provenance": []
  },
  "kernelspec": {
   "display_name": "Python 3 (ipykernel)",
   "language": "python",
   "name": "python3"
  },
  "language_info": {
   "codemirror_mode": {
    "name": "ipython",
    "version": 3
   },
   "file_extension": ".py",
   "mimetype": "text/x-python",
   "name": "python",
   "nbconvert_exporter": "python",
   "pygments_lexer": "ipython3",
   "version": "3.9.12"
  }
 },
 "nbformat": 4,
 "nbformat_minor": 4
}
