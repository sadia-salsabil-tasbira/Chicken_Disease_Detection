{
 "cells": [
  {
   "cell_type": "code",
   "execution_count": 5,
   "metadata": {},
   "outputs": [],
   "source": [
    "import tensorflow as tf\n",
    "import numpy as np\n",
    "import os\n",
    "import cv2\n",
    "from tensorflow.keras.models import load_model\n",
    "from IPython.display import Image\n",
    "from tensorflow.keras.preprocessing import image"
   ]
  },
  {
   "cell_type": "code",
   "execution_count": null,
   "metadata": {},
   "outputs": [],
   "source": []
  },
  {
   "cell_type": "code",
   "execution_count": null,
   "metadata": {},
   "outputs": [],
   "source": [
    "## Method no. 1"
   ]
  },
  {
   "cell_type": "code",
   "execution_count": 11,
   "metadata": {},
   "outputs": [],
   "source": [
    "model = load_model('./Fold_2/models/vgg16_30.h5')"
   ]
  },
  {
   "cell_type": "code",
   "execution_count": null,
   "metadata": {},
   "outputs": [],
   "source": []
  },
  {
   "cell_type": "code",
   "execution_count": 12,
   "metadata": {},
   "outputs": [
    {
     "name": "stdout",
     "output_type": "stream",
     "text": [
      "1/1 [==============================] - 1s 913ms/step\n",
      "1/1 [==============================] - 0s 15ms/step\n",
      "1/1 [==============================] - 0s 15ms/step\n",
      "1/1 [==============================] - 0s 15ms/step\n",
      "1/1 [==============================] - 0s 15ms/step\n",
      "1/1 [==============================] - 0s 16ms/step\n",
      "1/1 [==============================] - 0s 15ms/step\n",
      "1/1 [==============================] - 0s 15ms/step\n",
      "1/1 [==============================] - 0s 15ms/step\n",
      "1/1 [==============================] - 0s 15ms/step\n",
      "1/1 [==============================] - 0s 15ms/step\n",
      "1/1 [==============================] - 0s 16ms/step\n",
      "1/1 [==============================] - 0s 14ms/step\n",
      "1/1 [==============================] - 0s 16ms/step\n",
      "1/1 [==============================] - 0s 16ms/step\n",
      "1/1 [==============================] - 0s 15ms/step\n",
      "1/1 [==============================] - 0s 15ms/step\n",
      "1/1 [==============================] - 0s 15ms/step\n",
      "1/1 [==============================] - 0s 15ms/step\n",
      "1/1 [==============================] - 0s 15ms/step\n",
      "1/1 [==============================] - 0s 14ms/step\n",
      "1/1 [==============================] - 0s 15ms/step\n",
      "1/1 [==============================] - 0s 15ms/step\n",
      "1/1 [==============================] - 0s 15ms/step\n",
      "1/1 [==============================] - 0s 15ms/step\n",
      "1/1 [==============================] - 0s 15ms/step\n",
      "Total accurate prediction for cocci: 25\n"
     ]
    }
   ],
   "source": [
    "total_count = 0\n",
    "\n",
    "path = 'D:/MScCS/thesis/Dataset/new/separate testing/cocci'\n",
    "count = 0\n",
    "for i in os.listdir(path):\n",
    "    img = cv2.imread(path + '//' + i)\n",
    "    img = cv2.resize(img, (224, 224))\n",
    "    img = np.reshape(img, [1, 224, 224, 3])\n",
    "    \n",
    "    classes = model.predict([img])\n",
    "    category = np.argmax(classes)\n",
    "    if(category == 0):\n",
    "        count = count + 1\n",
    "print('Total accurate prediction for cocci:', count)\n",
    "total_count = total_count + count"
   ]
  },
  {
   "cell_type": "code",
   "execution_count": 13,
   "metadata": {},
   "outputs": [
    {
     "name": "stdout",
     "output_type": "stream",
     "text": [
      "1/1 [==============================] - 0s 16ms/step\n",
      "1/1 [==============================] - 0s 15ms/step\n",
      "1/1 [==============================] - 0s 14ms/step\n",
      "1/1 [==============================] - 0s 16ms/step\n",
      "1/1 [==============================] - 0s 15ms/step\n",
      "1/1 [==============================] - 0s 14ms/step\n",
      "1/1 [==============================] - 0s 14ms/step\n",
      "1/1 [==============================] - 0s 15ms/step\n",
      "1/1 [==============================] - 0s 16ms/step\n",
      "1/1 [==============================] - 0s 15ms/step\n",
      "1/1 [==============================] - 0s 14ms/step\n",
      "1/1 [==============================] - 0s 15ms/step\n",
      "1/1 [==============================] - 0s 15ms/step\n",
      "1/1 [==============================] - 0s 19ms/step\n",
      "1/1 [==============================] - 0s 16ms/step\n",
      "1/1 [==============================] - 0s 16ms/step\n",
      "1/1 [==============================] - 0s 15ms/step\n",
      "1/1 [==============================] - 0s 15ms/step\n",
      "1/1 [==============================] - 0s 15ms/step\n",
      "1/1 [==============================] - 0s 15ms/step\n",
      "1/1 [==============================] - 0s 15ms/step\n",
      "1/1 [==============================] - 0s 15ms/step\n",
      "1/1 [==============================] - 0s 15ms/step\n",
      "Total accurate prediction for healthy: 5\n"
     ]
    }
   ],
   "source": [
    "path = 'D:/MScCS/thesis/Dataset/new/separate testing/healthy'\n",
    "count = 0\n",
    "for i in os.listdir(path):\n",
    "    img = cv2.imread(path + '//' + i)\n",
    "    img = cv2.resize(img, (224, 224))\n",
    "    img = np.reshape(img, [1, 224, 224, 3])\n",
    "    \n",
    "    classes = model.predict([img])\n",
    "    category = np.argmax(classes)\n",
    "    if(category == 1):\n",
    "        count = count + 1\n",
    "print('Total accurate prediction for healthy:', count)\n",
    "total_count = total_count + count  "
   ]
  },
  {
   "cell_type": "code",
   "execution_count": 14,
   "metadata": {},
   "outputs": [
    {
     "name": "stdout",
     "output_type": "stream",
     "text": [
      "1/1 [==============================] - 0s 16ms/step\n",
      "1/1 [==============================] - 0s 14ms/step\n",
      "1/1 [==============================] - 0s 18ms/step\n",
      "1/1 [==============================] - 0s 15ms/step\n",
      "1/1 [==============================] - 0s 15ms/step\n",
      "1/1 [==============================] - 0s 16ms/step\n",
      "1/1 [==============================] - 0s 17ms/step\n",
      "1/1 [==============================] - 0s 14ms/step\n",
      "1/1 [==============================] - 0s 14ms/step\n",
      "Total accurate prediction for ncd: 7\n"
     ]
    }
   ],
   "source": [
    "path = 'D:/MScCS/thesis/Dataset/new/separate testing/ncd'\n",
    "count = 0\n",
    "for i in os.listdir(path):\n",
    "    img = cv2.imread(path + '//' + i)\n",
    "    img = cv2.resize(img, (224, 224))\n",
    "    img = np.reshape(img, [1, 224, 224, 3])\n",
    "    \n",
    "    classes = model.predict([img])\n",
    "    category = np.argmax(classes)\n",
    "    if(category == 2):\n",
    "        count = count + 1\n",
    "print('Total accurate prediction for ncd:', count)\n",
    "total_count = total_count + count"
   ]
  },
  {
   "cell_type": "code",
   "execution_count": 15,
   "metadata": {},
   "outputs": [
    {
     "name": "stdout",
     "output_type": "stream",
     "text": [
      "1/1 [==============================] - 0s 15ms/step\n",
      "1/1 [==============================] - 0s 15ms/step\n",
      "1/1 [==============================] - 0s 16ms/step\n",
      "1/1 [==============================] - 0s 15ms/step\n",
      "1/1 [==============================] - 0s 15ms/step\n",
      "1/1 [==============================] - 0s 15ms/step\n",
      "1/1 [==============================] - 0s 14ms/step\n",
      "1/1 [==============================] - 0s 14ms/step\n",
      "1/1 [==============================] - 0s 14ms/step\n",
      "1/1 [==============================] - 0s 14ms/step\n",
      "1/1 [==============================] - 0s 15ms/step\n",
      "1/1 [==============================] - 0s 17ms/step\n",
      "1/1 [==============================] - 0s 16ms/step\n",
      "1/1 [==============================] - 0s 16ms/step\n",
      "1/1 [==============================] - 0s 17ms/step\n",
      "1/1 [==============================] - 0s 14ms/step\n",
      "1/1 [==============================] - 0s 15ms/step\n",
      "1/1 [==============================] - 0s 15ms/step\n",
      "1/1 [==============================] - 0s 17ms/step\n",
      "1/1 [==============================] - 0s 16ms/step\n",
      "1/1 [==============================] - 0s 15ms/step\n",
      "1/1 [==============================] - 0s 15ms/step\n",
      "Total accurate prediction for salmo: 16\n"
     ]
    }
   ],
   "source": [
    "path = 'D:/MScCS/thesis/Dataset/new/separate testing/salmo'\n",
    "count = 0\n",
    "for i in os.listdir(path):\n",
    "    img = cv2.imread(path + '//' + i)\n",
    "    img = cv2.resize(img, (224, 224))\n",
    "    img = np.reshape(img, [1, 224, 224, 3])\n",
    "    \n",
    "    classes = model.predict([img])\n",
    "    category = np.argmax(classes)\n",
    "    if(category == 3):\n",
    "        count = count + 1\n",
    "print('Total accurate prediction for salmo:', count)\n",
    "total_count = total_count + count"
   ]
  },
  {
   "cell_type": "code",
   "execution_count": 16,
   "metadata": {},
   "outputs": [
    {
     "name": "stdout",
     "output_type": "stream",
     "text": [
      "53\n"
     ]
    }
   ],
   "source": [
    "print(total_count)"
   ]
  },
  {
   "cell_type": "code",
   "execution_count": null,
   "metadata": {},
   "outputs": [],
   "source": []
  },
  {
   "cell_type": "code",
   "execution_count": null,
   "metadata": {},
   "outputs": [],
   "source": []
  },
  {
   "cell_type": "code",
   "execution_count": null,
   "metadata": {},
   "outputs": [],
   "source": [
    "## Method no. 2"
   ]
  },
  {
   "cell_type": "code",
   "execution_count": 6,
   "metadata": {},
   "outputs": [],
   "source": [
    "model = load_model('./Fold_5/models/mobilenetv2/mobilenetv2_100.h5')"
   ]
  },
  {
   "cell_type": "code",
   "execution_count": 7,
   "metadata": {},
   "outputs": [
    {
     "name": "stdout",
     "output_type": "stream",
     "text": [
      "1/1 [==============================] - 14s 14s/step\n",
      "1/1 [==============================] - 0s 101ms/step\n",
      "1/1 [==============================] - 0s 22ms/step\n",
      "1/1 [==============================] - 0s 22ms/step\n",
      "1/1 [==============================] - 0s 22ms/step\n",
      "1/1 [==============================] - 0s 22ms/step\n",
      "1/1 [==============================] - 0s 23ms/step\n",
      "1/1 [==============================] - 0s 23ms/step\n",
      "1/1 [==============================] - 0s 23ms/step\n",
      "1/1 [==============================] - 0s 24ms/step\n",
      "1/1 [==============================] - 0s 22ms/step\n",
      "1/1 [==============================] - 0s 25ms/step\n",
      "1/1 [==============================] - 0s 77ms/step\n",
      "1/1 [==============================] - 0s 58ms/step\n",
      "1/1 [==============================] - 0s 23ms/step\n",
      "1/1 [==============================] - 0s 20ms/step\n",
      "1/1 [==============================] - 0s 18ms/step\n",
      "1/1 [==============================] - 0s 23ms/step\n",
      "1/1 [==============================] - 0s 21ms/step\n",
      "1/1 [==============================] - 0s 22ms/step\n",
      "1/1 [==============================] - 0s 25ms/step\n",
      "1/1 [==============================] - 0s 21ms/step\n",
      "1/1 [==============================] - 0s 18ms/step\n",
      "1/1 [==============================] - 0s 18ms/step\n",
      "1/1 [==============================] - 0s 18ms/step\n",
      "1/1 [==============================] - 0s 21ms/step\n",
      "Total accurate prediction for cocci: 25\n"
     ]
    }
   ],
   "source": [
    "total_count = 0\n",
    "path = 'D:/MScCS/thesis/Dataset/new/separate testing/cocci/'\n",
    "count = 0\n",
    "for i in os.listdir(path):\n",
    "    filename = path + i\n",
    "    Image(filename,width=224,height=224)\n",
    "    img = image.load_img(filename,target_size=(224,224))\n",
    "\n",
    "    resizedimg = image.img_to_array(img)\n",
    "    finalimg = np.expand_dims(resizedimg,axis=0)\n",
    "    finalimg = tf.keras.applications.mobilenet_v2.preprocess_input(finalimg)\n",
    "    finalimg.shape\n",
    "    predictions = model.predict(finalimg)\n",
    "\n",
    "    #print(np.argmax(predictions))\n",
    "    category = np.argmax(predictions)\n",
    "    if(category == 0):\n",
    "        count = count + 1\n",
    "        \n",
    "print('Total accurate prediction for cocci:', count)\n",
    "\n",
    "total_count = total_count + count"
   ]
  },
  {
   "cell_type": "code",
   "execution_count": 8,
   "metadata": {},
   "outputs": [
    {
     "name": "stdout",
     "output_type": "stream",
     "text": [
      "1/1 [==============================] - 0s 19ms/step\n",
      "1/1 [==============================] - 0s 19ms/step\n",
      "1/1 [==============================] - 0s 20ms/step\n",
      "1/1 [==============================] - 0s 19ms/step\n",
      "1/1 [==============================] - 0s 19ms/step\n",
      "1/1 [==============================] - 0s 19ms/step\n",
      "1/1 [==============================] - 0s 20ms/step\n",
      "1/1 [==============================] - 0s 19ms/step\n",
      "1/1 [==============================] - 0s 19ms/step\n",
      "1/1 [==============================] - 0s 22ms/step\n",
      "1/1 [==============================] - 0s 19ms/step\n",
      "1/1 [==============================] - 0s 20ms/step\n",
      "1/1 [==============================] - 0s 21ms/step\n",
      "1/1 [==============================] - 0s 22ms/step\n",
      "1/1 [==============================] - 0s 19ms/step\n",
      "1/1 [==============================] - 0s 19ms/step\n",
      "1/1 [==============================] - 0s 22ms/step\n",
      "1/1 [==============================] - 0s 18ms/step\n",
      "1/1 [==============================] - 0s 18ms/step\n",
      "1/1 [==============================] - 0s 21ms/step\n",
      "1/1 [==============================] - 0s 26ms/step\n",
      "1/1 [==============================] - 0s 20ms/step\n",
      "1/1 [==============================] - 0s 20ms/step\n",
      "Total accurate prediction for healthy: 23\n"
     ]
    }
   ],
   "source": [
    "path = 'D:/MScCS/thesis/Dataset/new/separate testing/healthy/'\n",
    "count = 0\n",
    "for i in os.listdir(path):\n",
    "    filename = path + i\n",
    "    Image(filename,width=299,height=299)\n",
    "    img = image.load_img(filename,target_size=(224,224))\n",
    "\n",
    "    resizedimg = image.img_to_array(img)\n",
    "    finalimg = np.expand_dims(resizedimg,axis=0)\n",
    "    finalimg = tf.keras.applications.mobilenet_v2.preprocess_input(finalimg)\n",
    "    finalimg.shape\n",
    "    predictions = model.predict(finalimg)\n",
    "\n",
    "    #print(np.argmax(predictions))\n",
    "    category = np.argmax(predictions)\n",
    "    if(category == 1):\n",
    "        count = count + 1\n",
    "        \n",
    "print('Total accurate prediction for healthy:', count)\n",
    "total_count = total_count + count"
   ]
  },
  {
   "cell_type": "code",
   "execution_count": 9,
   "metadata": {},
   "outputs": [
    {
     "name": "stdout",
     "output_type": "stream",
     "text": [
      "1/1 [==============================] - 0s 19ms/step\n",
      "1/1 [==============================] - 0s 19ms/step\n",
      "1/1 [==============================] - 0s 18ms/step\n",
      "1/1 [==============================] - 0s 18ms/step\n",
      "1/1 [==============================] - 0s 19ms/step\n",
      "1/1 [==============================] - 0s 19ms/step\n",
      "1/1 [==============================] - 0s 19ms/step\n",
      "1/1 [==============================] - 0s 20ms/step\n",
      "1/1 [==============================] - 0s 19ms/step\n",
      "Total accurate prediction for ncd: 9\n"
     ]
    }
   ],
   "source": [
    "path = 'D:/MScCS/thesis/Dataset/new/separate testing/ncd/'\n",
    "count = 0\n",
    "for i in os.listdir(path):\n",
    "    filename = path + i\n",
    "    Image(filename,width=224,height=224)\n",
    "    img = image.load_img(filename,target_size=(224,224))\n",
    "\n",
    "    resizedimg = image.img_to_array(img)\n",
    "    finalimg = np.expand_dims(resizedimg,axis=0)\n",
    "    finalimg = tf.keras.applications.mobilenet_v2.preprocess_input(finalimg)\n",
    "    finalimg.shape\n",
    "    predictions = model.predict(finalimg)\n",
    "\n",
    "    #print(np.argmax(predictions))\n",
    "    category = np.argmax(predictions)\n",
    "    if(category == 2):\n",
    "        count = count + 1\n",
    "        \n",
    "print('Total accurate prediction for ncd:', count)\n",
    "total_count = total_count + count"
   ]
  },
  {
   "cell_type": "code",
   "execution_count": 10,
   "metadata": {
    "scrolled": false
   },
   "outputs": [
    {
     "name": "stdout",
     "output_type": "stream",
     "text": [
      "1/1 [==============================] - 0s 19ms/step\n",
      "1/1 [==============================] - 0s 18ms/step\n",
      "1/1 [==============================] - 0s 19ms/step\n",
      "1/1 [==============================] - 0s 19ms/step\n",
      "1/1 [==============================] - 0s 19ms/step\n",
      "1/1 [==============================] - 0s 21ms/step\n",
      "1/1 [==============================] - 0s 19ms/step\n",
      "1/1 [==============================] - 0s 18ms/step\n",
      "1/1 [==============================] - 0s 19ms/step\n",
      "1/1 [==============================] - 0s 20ms/step\n",
      "1/1 [==============================] - 0s 18ms/step\n",
      "1/1 [==============================] - 0s 19ms/step\n",
      "1/1 [==============================] - 0s 20ms/step\n",
      "1/1 [==============================] - 0s 21ms/step\n",
      "1/1 [==============================] - 0s 22ms/step\n",
      "1/1 [==============================] - 0s 23ms/step\n",
      "1/1 [==============================] - 0s 22ms/step\n",
      "1/1 [==============================] - 0s 21ms/step\n",
      "1/1 [==============================] - 0s 21ms/step\n",
      "1/1 [==============================] - 0s 19ms/step\n",
      "1/1 [==============================] - 0s 19ms/step\n",
      "1/1 [==============================] - 0s 19ms/step\n",
      "Total accurate prediction for salmo: 22\n",
      "Total accurate prediction:  79\n"
     ]
    }
   ],
   "source": [
    "path = 'D:/MScCS/thesis/Dataset/new/separate testing/salmo/'\n",
    "count = 0\n",
    "for i in os.listdir(path):\n",
    "    filename = path + i\n",
    "    Image(filename,width=224,height=224)\n",
    "    img = image.load_img(filename,target_size=(224,224))\n",
    "\n",
    "    resizedimg = image.img_to_array(img)\n",
    "    finalimg = np.expand_dims(resizedimg,axis=0)\n",
    "    finalimg = tf.keras.applications.mobilenet_v2.preprocess_input(finalimg)\n",
    "    finalimg.shape\n",
    "    predictions = model.predict(finalimg)\n",
    "\n",
    "    #print(np.argmax(predictions))\n",
    "    category = np.argmax(predictions)\n",
    "    if(category == 3):\n",
    "        count = count + 1\n",
    "        \n",
    "print('Total accurate prediction for salmo:', count)\n",
    "total_count = total_count + count\n",
    "\n",
    "print ('Total accurate prediction: ', total_count )"
   ]
  },
  {
   "cell_type": "code",
   "execution_count": null,
   "metadata": {},
   "outputs": [],
   "source": []
  },
  {
   "cell_type": "code",
   "execution_count": null,
   "metadata": {},
   "outputs": [],
   "source": []
  }
 ],
 "metadata": {
  "kernelspec": {
   "display_name": "Python 3 (ipykernel)",
   "language": "python",
   "name": "python3"
  },
  "language_info": {
   "codemirror_mode": {
    "name": "ipython",
    "version": 3
   },
   "file_extension": ".py",
   "mimetype": "text/x-python",
   "name": "python",
   "nbconvert_exporter": "python",
   "pygments_lexer": "ipython3",
   "version": "3.9.12"
  }
 },
 "nbformat": 4,
 "nbformat_minor": 2
}
